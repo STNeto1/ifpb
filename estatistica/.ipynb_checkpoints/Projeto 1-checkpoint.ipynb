{
 "cells": [
  {
   "cell_type": "markdown",
   "metadata": {},
   "source": [
    "# Projeto I\n",
    "\n",
    "## As discussões sobre as questão está no final da página"
   ]
  },
  {
   "cell_type": "markdown",
   "metadata": {},
   "source": [
    "# Tarefa 1"
   ]
  },
  {
   "cell_type": "code",
   "execution_count": 1,
   "metadata": {},
   "outputs": [],
   "source": [
    "import pandas as pd\n",
    "import numpy as np"
   ]
  },
  {
   "cell_type": "code",
   "execution_count": 2,
   "metadata": {},
   "outputs": [],
   "source": [
    "detran19 = pd.read_csv('datatran2019.csv', delimiter=\";\", encoding='latin1')\n",
    "detran20 = pd.read_csv('datatran2020.csv', delimiter=\";\", encoding='latin1')"
   ]
  },
  {
   "cell_type": "markdown",
   "metadata": {},
   "source": [
    "# Tafera 2 "
   ]
  },
  {
   "cell_type": "markdown",
   "metadata": {},
   "source": [
    "## a)"
   ]
  },
  {
   "cell_type": "code",
   "execution_count": 3,
   "metadata": {
    "scrolled": true
   },
   "outputs": [
    {
     "data": {
      "text/plain": [
       "67446"
      ]
     },
     "execution_count": 3,
     "metadata": {},
     "output_type": "execute_result"
    }
   ],
   "source": [
    "len(detran19)"
   ]
  },
  {
   "cell_type": "code",
   "execution_count": 4,
   "metadata": {
    "scrolled": true
   },
   "outputs": [
    {
     "data": {
      "text/plain": [
       "34084"
      ]
     },
     "execution_count": 4,
     "metadata": {},
     "output_type": "execute_result"
    }
   ],
   "source": [
    "len(detran20)"
   ]
  },
  {
   "cell_type": "markdown",
   "metadata": {},
   "source": [
    "## b)"
   ]
  },
  {
   "cell_type": "code",
   "execution_count": 5,
   "metadata": {},
   "outputs": [],
   "source": [
    "linhas19, colunas19 = detran19.shape"
   ]
  },
  {
   "cell_type": "code",
   "execution_count": 6,
   "metadata": {},
   "outputs": [],
   "source": [
    "linhas20, colunas20 = detran20.shape"
   ]
  },
  {
   "cell_type": "code",
   "execution_count": 7,
   "metadata": {},
   "outputs": [
    {
     "name": "stdout",
     "output_type": "stream",
     "text": [
      "O datatran19 tem 67446 linhas e 30 colunas\n",
      "O datatran20 tem 34084 linhas e 30 colunas\n"
     ]
    }
   ],
   "source": [
    "print(f\"O datatran19 tem {linhas19} linhas e {colunas19} colunas\")\n",
    "print(f\"O datatran20 tem {linhas20} linhas e {colunas20} colunas\")"
   ]
  },
  {
   "cell_type": "markdown",
   "metadata": {},
   "source": [
    "# c)"
   ]
  },
  {
   "cell_type": "code",
   "execution_count": 8,
   "metadata": {},
   "outputs": [
    {
     "data": {
      "text/plain": [
       "CURITIBA     1094\n",
       "BRASILIA     1090\n",
       "SAO JOSE      819\n",
       "GUARULHOS     717\n",
       "SERRA         633\n",
       "Name: municipio, dtype: int64"
      ]
     },
     "execution_count": 8,
     "metadata": {},
     "output_type": "execute_result"
    }
   ],
   "source": [
    "detran19['municipio'].value_counts().head(5)"
   ]
  },
  {
   "cell_type": "code",
   "execution_count": 9,
   "metadata": {},
   "outputs": [
    {
     "data": {
      "text/plain": [
       "BRASILIA     582\n",
       "CURITIBA     540\n",
       "SAO JOSE     339\n",
       "PALHOCA      329\n",
       "GUARULHOS    327\n",
       "Name: municipio, dtype: int64"
      ]
     },
     "execution_count": 9,
     "metadata": {},
     "output_type": "execute_result"
    }
   ],
   "source": [
    "detran20['municipio'].value_counts().head()"
   ]
  },
  {
   "cell_type": "markdown",
   "metadata": {},
   "source": [
    "## d)"
   ]
  },
  {
   "cell_type": "code",
   "execution_count": 10,
   "metadata": {},
   "outputs": [
    {
     "name": "stdout",
     "output_type": "stream",
     "text": [
      "Tiveram 414 acidentes com feridos graves em 2019 na Paraíba\n"
     ]
    }
   ],
   "source": [
    "nroGravesPB = detran19[(detran19['uf'] == 'PB') & (detran19['feridos_graves'] > 0)].shape[0]\n",
    "print(f\"Tiveram {nroGravesPB} acidentes com feridos graves em 2019 na Paraíba\")"
   ]
  },
  {
   "cell_type": "markdown",
   "metadata": {},
   "source": [
    "## Tarefa 3"
   ]
  },
  {
   "cell_type": "code",
   "execution_count": 11,
   "metadata": {},
   "outputs": [],
   "source": [
    "acidentes19_20 = pd.concat([detran19, detran20], join='outer', ignore_index=False, keys=None,\n",
    "          levels=None, names=None, verify_integrity=False, copy=True)"
   ]
  },
  {
   "cell_type": "code",
   "execution_count": 12,
   "metadata": {},
   "outputs": [],
   "source": [
    "acidentes19_20.to_csv('acidentes19_20.csv')"
   ]
  },
  {
   "cell_type": "markdown",
   "metadata": {},
   "source": [
    "### a)"
   ]
  },
  {
   "cell_type": "code",
   "execution_count": 13,
   "metadata": {},
   "outputs": [
    {
     "data": {
      "text/plain": [
       "MG    13132\n",
       "SC    12506\n",
       "PR    11648\n",
       "RS     6920\n",
       "RJ     6794\n",
       "Name: uf, dtype: int64"
      ]
     },
     "execution_count": 13,
     "metadata": {},
     "output_type": "execute_result"
    }
   ],
   "source": [
    "acidentes19_20['uf'].value_counts().head(5)"
   ]
  },
  {
   "cell_type": "markdown",
   "metadata": {},
   "source": [
    "### b)"
   ]
  },
  {
   "cell_type": "code",
   "execution_count": 14,
   "metadata": {},
   "outputs": [
    {
     "data": {
      "text/plain": [
       "domingo          16702\n",
       "sábado           16587\n",
       "sexta-feira      15773\n",
       "segunda-feira    13644\n",
       "quinta-feira     13307\n",
       "quarta-feira     12868\n",
       "terça-feira      12649\n",
       "Name: dia_semana, dtype: int64"
      ]
     },
     "execution_count": 14,
     "metadata": {},
     "output_type": "execute_result"
    }
   ],
   "source": [
    "acidentes19_20['dia_semana'].value_counts()"
   ]
  },
  {
   "cell_type": "markdown",
   "metadata": {},
   "source": [
    "## Tarefa 4"
   ]
  },
  {
   "cell_type": "markdown",
   "metadata": {},
   "source": [
    "### a)"
   ]
  },
  {
   "cell_type": "code",
   "execution_count": 15,
   "metadata": {},
   "outputs": [],
   "source": [
    "maior_causa_19 = detran19['causa_acidente'].value_counts().index[0]\n",
    "menor_causa_19 = detran19['causa_acidente'].value_counts().index[-1]\n",
    "\n",
    "maior_causa_20 = detran20['causa_acidente'].value_counts().index[0]\n",
    "menor_causa_20 = detran20['causa_acidente'].value_counts().index[-1]"
   ]
  },
  {
   "cell_type": "code",
   "execution_count": 16,
   "metadata": {
    "scrolled": true
   },
   "outputs": [
    {
     "name": "stdout",
     "output_type": "stream",
     "text": [
      "\n",
      "    Em 2019,\n",
      "    a maior causa foi Falta de Atenção à Condução\n",
      "    enquanto a menor foi Ingestão de Substâncias Psicoativas\n",
      "    \n",
      "    Já em 2020,\n",
      "    a maior causa foi Falta de Atenção à Condução\n",
      "    enquanto a menor foi Ingestão de Substâncias Psicoativas\n",
      "\n"
     ]
    }
   ],
   "source": [
    "print(f\"\"\"\n",
    "    Em 2019,\n",
    "    a maior causa foi {maior_causa_19}\n",
    "    enquanto a menor foi {menor_causa_19}\n",
    "    \n",
    "    Já em 2020,\n",
    "    a maior causa foi {maior_causa_20}\n",
    "    enquanto a menor foi {menor_causa_20}\n",
    "\"\"\")"
   ]
  },
  {
   "cell_type": "markdown",
   "metadata": {},
   "source": [
    "### b)"
   ]
  },
  {
   "cell_type": "code",
   "execution_count": 17,
   "metadata": {},
   "outputs": [],
   "source": [
    "import calendar"
   ]
  },
  {
   "cell_type": "code",
   "execution_count": 18,
   "metadata": {},
   "outputs": [],
   "source": [
    "detran19['mes'] = list(map(lambda x: calendar.month_name[int(x[5:7])], list(detran19['data_inversa'])))\n",
    "detran20['mes'] = list(map(lambda x: calendar.month_name[int(x[5:7])], list(detran20['data_inversa'])))"
   ]
  },
  {
   "cell_type": "code",
   "execution_count": 19,
   "metadata": {},
   "outputs": [],
   "source": [
    "detran19.set_index('mes', inplace=True)\n",
    "detran20.set_index('mes', inplace=True)"
   ]
  },
  {
   "cell_type": "code",
   "execution_count": 20,
   "metadata": {},
   "outputs": [],
   "source": [
    "detran19_n1 = detran19.groupby('mes')[['ilesos', 'feridos_graves', 'feridos_leves']].sum()\n",
    "detran19_n2 = detran19.groupby('mes')['pessoas'].sum()\n",
    "\n",
    "detran20_n1 = detran20.groupby('mes')[['ilesos', 'feridos_graves', 'feridos_leves']].sum()\n",
    "detran20_n2 = detran20.groupby('mes')['pessoas'].sum()"
   ]
  },
  {
   "cell_type": "code",
   "execution_count": 21,
   "metadata": {},
   "outputs": [],
   "source": [
    "final_detran19 = pd.DataFrame((np.array(detran19_n1.sum(axis=1).values) / detran19_n2.values) * 100)\n",
    "final_detran19['mes'] = sorted(list(detran19.index.unique()))\n",
    "final_detran19.set_index('mes', inplace=True)\n",
    "\n",
    "final_detran20 = pd.DataFrame((np.array(detran20_n1.sum(axis=1).values) / detran20_n2.values) * 100)\n",
    "final_detran20['mes'] = sorted(list(detran20.index.unique()))\n",
    "final_detran20.set_index('mes', inplace=True)"
   ]
  },
  {
   "cell_type": "code",
   "execution_count": 22,
   "metadata": {},
   "outputs": [
    {
     "data": {
      "text/html": [
       "<div>\n",
       "<style scoped>\n",
       "    .dataframe tbody tr th:only-of-type {\n",
       "        vertical-align: middle;\n",
       "    }\n",
       "\n",
       "    .dataframe tbody tr th {\n",
       "        vertical-align: top;\n",
       "    }\n",
       "\n",
       "    .dataframe thead th {\n",
       "        text-align: right;\n",
       "    }\n",
       "</style>\n",
       "<table border=\"1\" class=\"dataframe\">\n",
       "  <thead>\n",
       "    <tr style=\"text-align: right;\">\n",
       "      <th></th>\n",
       "      <th>0</th>\n",
       "    </tr>\n",
       "    <tr>\n",
       "      <th>mes</th>\n",
       "      <th></th>\n",
       "    </tr>\n",
       "  </thead>\n",
       "  <tbody>\n",
       "    <tr>\n",
       "      <th>April</th>\n",
       "      <td>90.799844</td>\n",
       "    </tr>\n",
       "    <tr>\n",
       "      <th>August</th>\n",
       "      <td>90.611728</td>\n",
       "    </tr>\n",
       "    <tr>\n",
       "      <th>December</th>\n",
       "      <td>91.190247</td>\n",
       "    </tr>\n",
       "    <tr>\n",
       "      <th>February</th>\n",
       "      <td>91.584033</td>\n",
       "    </tr>\n",
       "    <tr>\n",
       "      <th>January</th>\n",
       "      <td>91.999085</td>\n",
       "    </tr>\n",
       "    <tr>\n",
       "      <th>July</th>\n",
       "      <td>90.803154</td>\n",
       "    </tr>\n",
       "    <tr>\n",
       "      <th>June</th>\n",
       "      <td>90.545075</td>\n",
       "    </tr>\n",
       "    <tr>\n",
       "      <th>March</th>\n",
       "      <td>91.473211</td>\n",
       "    </tr>\n",
       "    <tr>\n",
       "      <th>May</th>\n",
       "      <td>90.449394</td>\n",
       "    </tr>\n",
       "    <tr>\n",
       "      <th>November</th>\n",
       "      <td>90.747305</td>\n",
       "    </tr>\n",
       "    <tr>\n",
       "      <th>October</th>\n",
       "      <td>91.343048</td>\n",
       "    </tr>\n",
       "    <tr>\n",
       "      <th>September</th>\n",
       "      <td>90.776202</td>\n",
       "    </tr>\n",
       "  </tbody>\n",
       "</table>\n",
       "</div>"
      ],
      "text/plain": [
       "                   0\n",
       "mes                 \n",
       "April      90.799844\n",
       "August     90.611728\n",
       "December   91.190247\n",
       "February   91.584033\n",
       "January    91.999085\n",
       "July       90.803154\n",
       "June       90.545075\n",
       "March      91.473211\n",
       "May        90.449394\n",
       "November   90.747305\n",
       "October    91.343048\n",
       "September  90.776202"
      ]
     },
     "execution_count": 22,
     "metadata": {},
     "output_type": "execute_result"
    }
   ],
   "source": [
    "final_detran19"
   ]
  },
  {
   "cell_type": "code",
   "execution_count": 23,
   "metadata": {},
   "outputs": [
    {
     "data": {
      "text/html": [
       "<div>\n",
       "<style scoped>\n",
       "    .dataframe tbody tr th:only-of-type {\n",
       "        vertical-align: middle;\n",
       "    }\n",
       "\n",
       "    .dataframe tbody tr th {\n",
       "        vertical-align: top;\n",
       "    }\n",
       "\n",
       "    .dataframe thead th {\n",
       "        text-align: right;\n",
       "    }\n",
       "</style>\n",
       "<table border=\"1\" class=\"dataframe\">\n",
       "  <thead>\n",
       "    <tr style=\"text-align: right;\">\n",
       "      <th></th>\n",
       "      <th>0</th>\n",
       "    </tr>\n",
       "    <tr>\n",
       "      <th>mes</th>\n",
       "      <th></th>\n",
       "    </tr>\n",
       "  </thead>\n",
       "  <tbody>\n",
       "    <tr>\n",
       "      <th>April</th>\n",
       "      <td>88.784042</td>\n",
       "    </tr>\n",
       "    <tr>\n",
       "      <th>February</th>\n",
       "      <td>91.082948</td>\n",
       "    </tr>\n",
       "    <tr>\n",
       "      <th>January</th>\n",
       "      <td>91.594966</td>\n",
       "    </tr>\n",
       "    <tr>\n",
       "      <th>July</th>\n",
       "      <td>88.985908</td>\n",
       "    </tr>\n",
       "    <tr>\n",
       "      <th>June</th>\n",
       "      <td>89.011516</td>\n",
       "    </tr>\n",
       "    <tr>\n",
       "      <th>March</th>\n",
       "      <td>89.329863</td>\n",
       "    </tr>\n",
       "    <tr>\n",
       "      <th>May</th>\n",
       "      <td>88.581659</td>\n",
       "    </tr>\n",
       "  </tbody>\n",
       "</table>\n",
       "</div>"
      ],
      "text/plain": [
       "                  0\n",
       "mes                \n",
       "April     88.784042\n",
       "February  91.082948\n",
       "January   91.594966\n",
       "July      88.985908\n",
       "June      89.011516\n",
       "March     89.329863\n",
       "May       88.581659"
      ]
     },
     "execution_count": 23,
     "metadata": {},
     "output_type": "execute_result"
    }
   ],
   "source": [
    "final_detran20"
   ]
  },
  {
   "cell_type": "markdown",
   "metadata": {},
   "source": [
    "### c)"
   ]
  },
  {
   "cell_type": "code",
   "execution_count": 24,
   "metadata": {},
   "outputs": [],
   "source": [
    "detran19_idx = list(final_detran19.index)\n",
    "detran20_idx = list(final_detran20.index)\n",
    "\n",
    "matched_indexes = list(filter(lambda x: x in detran20_idx, detran19_idx))"
   ]
  },
  {
   "cell_type": "code",
   "execution_count": 25,
   "metadata": {},
   "outputs": [],
   "source": [
    "d19 = detran19.loc[matched_indexes, 'pessoas':].groupby('mes').sum()"
   ]
  },
  {
   "cell_type": "code",
   "execution_count": 26,
   "metadata": {},
   "outputs": [],
   "source": [
    "d20 = detran20.loc[:, 'pessoas':].groupby('mes').sum()"
   ]
  },
  {
   "cell_type": "code",
   "execution_count": 27,
   "metadata": {},
   "outputs": [],
   "source": [
    "d19_20 = d20 - d19"
   ]
  },
  {
   "cell_type": "code",
   "execution_count": 28,
   "metadata": {
    "scrolled": true
   },
   "outputs": [
    {
     "data": {
      "text/html": [
       "<div>\n",
       "<style scoped>\n",
       "    .dataframe tbody tr th:only-of-type {\n",
       "        vertical-align: middle;\n",
       "    }\n",
       "\n",
       "    .dataframe tbody tr th {\n",
       "        vertical-align: top;\n",
       "    }\n",
       "\n",
       "    .dataframe thead th {\n",
       "        text-align: right;\n",
       "    }\n",
       "</style>\n",
       "<table border=\"1\" class=\"dataframe\">\n",
       "  <thead>\n",
       "    <tr style=\"text-align: right;\">\n",
       "      <th></th>\n",
       "      <th>pessoas</th>\n",
       "      <th>mortos</th>\n",
       "      <th>feridos_leves</th>\n",
       "      <th>feridos_graves</th>\n",
       "      <th>ilesos</th>\n",
       "      <th>ignorados</th>\n",
       "      <th>feridos</th>\n",
       "      <th>veiculos</th>\n",
       "    </tr>\n",
       "    <tr>\n",
       "      <th>mes</th>\n",
       "      <th></th>\n",
       "      <th></th>\n",
       "      <th></th>\n",
       "      <th></th>\n",
       "      <th></th>\n",
       "      <th></th>\n",
       "      <th></th>\n",
       "      <th></th>\n",
       "    </tr>\n",
       "  </thead>\n",
       "  <tbody>\n",
       "    <tr>\n",
       "      <th>April</th>\n",
       "      <td>-4443</td>\n",
       "      <td>-38</td>\n",
       "      <td>-1657</td>\n",
       "      <td>-373</td>\n",
       "      <td>-2173</td>\n",
       "      <td>-202</td>\n",
       "      <td>-2030</td>\n",
       "      <td>-2968</td>\n",
       "    </tr>\n",
       "    <tr>\n",
       "      <th>February</th>\n",
       "      <td>1378</td>\n",
       "      <td>-8</td>\n",
       "      <td>459</td>\n",
       "      <td>206</td>\n",
       "      <td>531</td>\n",
       "      <td>190</td>\n",
       "      <td>665</td>\n",
       "      <td>832</td>\n",
       "    </tr>\n",
       "    <tr>\n",
       "      <th>January</th>\n",
       "      <td>952</td>\n",
       "      <td>4</td>\n",
       "      <td>511</td>\n",
       "      <td>25</td>\n",
       "      <td>283</td>\n",
       "      <td>129</td>\n",
       "      <td>536</td>\n",
       "      <td>579</td>\n",
       "    </tr>\n",
       "    <tr>\n",
       "      <th>July</th>\n",
       "      <td>-2764</td>\n",
       "      <td>-34</td>\n",
       "      <td>-950</td>\n",
       "      <td>-424</td>\n",
       "      <td>-1346</td>\n",
       "      <td>-10</td>\n",
       "      <td>-1374</td>\n",
       "      <td>-1425</td>\n",
       "    </tr>\n",
       "    <tr>\n",
       "      <th>June</th>\n",
       "      <td>-2991</td>\n",
       "      <td>-102</td>\n",
       "      <td>-1179</td>\n",
       "      <td>-425</td>\n",
       "      <td>-1264</td>\n",
       "      <td>-21</td>\n",
       "      <td>-1604</td>\n",
       "      <td>-1635</td>\n",
       "    </tr>\n",
       "    <tr>\n",
       "      <th>March</th>\n",
       "      <td>-2810</td>\n",
       "      <td>-16</td>\n",
       "      <td>-893</td>\n",
       "      <td>-349</td>\n",
       "      <td>-1559</td>\n",
       "      <td>7</td>\n",
       "      <td>-1242</td>\n",
       "      <td>-1638</td>\n",
       "    </tr>\n",
       "    <tr>\n",
       "      <th>May</th>\n",
       "      <td>-2741</td>\n",
       "      <td>-85</td>\n",
       "      <td>-1011</td>\n",
       "      <td>-384</td>\n",
       "      <td>-1272</td>\n",
       "      <td>11</td>\n",
       "      <td>-1395</td>\n",
       "      <td>-1754</td>\n",
       "    </tr>\n",
       "  </tbody>\n",
       "</table>\n",
       "</div>"
      ],
      "text/plain": [
       "          pessoas  mortos  feridos_leves  feridos_graves  ilesos  ignorados  \\\n",
       "mes                                                                           \n",
       "April       -4443     -38          -1657            -373   -2173       -202   \n",
       "February     1378      -8            459             206     531        190   \n",
       "January       952       4            511              25     283        129   \n",
       "July        -2764     -34           -950            -424   -1346        -10   \n",
       "June        -2991    -102          -1179            -425   -1264        -21   \n",
       "March       -2810     -16           -893            -349   -1559          7   \n",
       "May         -2741     -85          -1011            -384   -1272         11   \n",
       "\n",
       "          feridos  veiculos  \n",
       "mes                          \n",
       "April       -2030     -2968  \n",
       "February      665       832  \n",
       "January       536       579  \n",
       "July        -1374     -1425  \n",
       "June        -1604     -1635  \n",
       "March       -1242     -1638  \n",
       "May         -1395     -1754  "
      ]
     },
     "execution_count": 28,
     "metadata": {},
     "output_type": "execute_result"
    }
   ],
   "source": [
    "d19_20"
   ]
  },
  {
   "cell_type": "markdown",
   "metadata": {},
   "source": [
    "# Discussões\n",
    "\n",
    "## Questão 1\n",
    "\n",
    "- Foi usado o método read_csv to pandas para ler o arquivo .csv e importado\n",
    "-  No método foram passados dois parâmetros importantes, delimiter e encoding\n",
    "   - Delimiter: Saber qual o caractere sepradador do arquivo importado e assim saber onde começa e termina uma informação\n",
    "   - Encoding: Para saber de qual lingua vem os caracteres das informações, \"transformando\" � em ç por exemplo\n",
    "\n",
    "## Questão 2\n",
    "\n",
    "- A)\n",
    "  - O pandas dá a colher de chá que torna preciso apenas pedir o tamanho (len) do dataframe para dar o número de linhas, que coincide com o número de ocorrências nesse caso\n",
    "- B)\n",
    "  - O valor shape do dataframe é uma tupla que guarda o número de linhas e colunas, então guardando essa tupla em uma ou duas variáveis, tenho acesso ao número variáveis em cada df\n",
    "- C)\n",
    "  - Mesmo que com uma ampla opções para os valores, a coluna 'municipios' ainda teria valores finitos e correspondentes as cidades em que os acidentes ocorreram, então usando .value_counts() é possível pegar as cidades, já ordenadas, que tiveram mais incidencias e acidentes, e usando o .head() logo em seguida do value_counts é possível pegar as 5 primeiras\n",
    "- D)\n",
    "  - Como ambos UF e feridos_graves são colunas do dataframe, uma pesquisa booleana com (UF == 'PB') e (feridos_graves > 0) foi suficiente para para saber quais linhas ambos aconteciam, depois um shape[0] foi necessário para pegar o número de linhas, que nesse caso correspondiam ao número de acidentes na Paraíba com feridos graves\n",
    "  \n",
    "## Questão 3\n",
    "\n",
    "### Usando a função a função abaixo foi possível colocar os dois dataframes juntos sem precisar de alterações, já que ambos tinham o mesm formado e apenas os valores mudavam entre os dois.\n",
    "```\n",
    "pd.concat([detran19, detran20], join='outer', ignore_index=False, keys=None, levels=None, names=None, verify_integrity=False, copy=True)\n",
    "```\n",
    "\n",
    "- A)\n",
    "  - Pegando a coluna de estados e usando .value_counts() foi possível ter o numero de ocorrências já ordenada, o .head() foi apenas para pegar os 5 primeiros\n",
    "- B)\n",
    "  - O mesmo da A), só que apenas foi usado 'dia_semana' para tal ordem\n",
    "\n",
    "## Questão 4\n",
    "\n",
    "- A)\n",
    "  - Usando a mesma lógica da coluna de municípios, mesmo que tenham vários motivos distintos, eles ainda ficariam entre uma lista de opções, então usando value_counts() na coluna 'causa_acidente' foi sucifiente para ter a lista de causas, usando o index 0 e -1 foi possível pegar a causa mais comum e menos comum\n",
    "- B)\n",
    "  - Como a coluna 'mês' não existe no dataframe original, mas usando a coluna 'data_inversa' foi possível pegar o número do mês e usar o mesmo como uma coluna e consequentemente index\n",
    "  - Em seguida agrupando os valores pelos meses, foi possível somar os valores colunas ilesos, feridos graves e feridos leves.  Também somar os valores da coluna pessoas.\n",
    "  - Tendo em mãos um dataframe com a soma de ilesos, feridos graves e feridos leves, por mês, em mãos. Foi possível somar toda a linha e dividir pelo número de pessoas envolvidas e obter a proporção.\n",
    "- C)\n",
    "  - Como 2020 ainda não terminou, no dataframe não vai ter todos os meses, então primeiro foi necessário pegar os meses que coincidem entre os dois dataframes\n",
    "  - Em seguida usando loc foi pego as colunas que importam nesse caso, agrupando por mês e somando os de mesmo mês, foi obtido um dataframe com as ocorrências por mês para cada uma das colunas\n",
    "  - Após fazer isso em ambos os dataframes, fazendo a subtração dos dados de 2020 pelos de 2019 você vai encontrar a diferença desse ano em relação a 2019\n",
    "  - Valores negativos são a queda em relação a 2019\n",
    "    - Em Janeiro e Fevereiro as coisas estavam \"normais\", como mostram os dados, mas após o começo da pandemia e do isolamento os dados  mostram a queda na ocorrência\n",
    "    \n",
    "  "
   ]
  }
 ],
 "metadata": {
  "kernelspec": {
   "display_name": "Python 3",
   "language": "python",
   "name": "python3"
  },
  "language_info": {
   "codemirror_mode": {
    "name": "ipython",
    "version": 3
   },
   "file_extension": ".py",
   "mimetype": "text/x-python",
   "name": "python",
   "nbconvert_exporter": "python",
   "pygments_lexer": "ipython3",
   "version": "3.8.3"
  }
 },
 "nbformat": 4,
 "nbformat_minor": 4
}
