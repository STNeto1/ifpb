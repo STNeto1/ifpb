{
 "cells": [
  {
   "cell_type": "code",
   "execution_count": 2,
   "metadata": {},
   "outputs": [],
   "source": [
    "import pandas as pd\n",
    "import numpy as np"
   ]
  },
  {
   "cell_type": "markdown",
   "metadata": {},
   "source": [
    "## Questão 1"
   ]
  },
  {
   "cell_type": "code",
   "execution_count": 12,
   "metadata": {},
   "outputs": [],
   "source": [
    "eventos = pd.read_csv('https://raw.githubusercontent.com/STNeto1/ifpb/master/estatistica/csv_files/eventos19.csv', encoding='latin1')\n",
    "extensao = pd.read_csv('https://raw.githubusercontent.com/STNeto1/ifpb/master/estatistica/csv_files/extensao19.csv', encoding='latin1')\n",
    "pesquisa = pd.read_csv('https://raw.githubusercontent.com/STNeto1/ifpb/master/estatistica/csv_files/pesquisa19.csv', encoding='latin1')\n",
    "pesquisadores = pd.read_csv('https://raw.githubusercontent.com/STNeto1/ifpb/master/estatistica/csv_files/pesquisadores19.csv', encoding='latin1')\n",
    "projetos_pesquisa = pd.read_csv('https://raw.githubusercontent.com/STNeto1/ifpb/master/estatistica/csv_files/projetos_pesquisa19.csv', encoding='latin1')"
   ]
  },
  {
   "cell_type": "code",
   "execution_count": 17,
   "metadata": {
    "collapsed": true
   },
   "outputs": [
    {
     "data": {
      "text/html": [
       "<div>\n",
       "<style scoped>\n",
       "    .dataframe tbody tr th:only-of-type {\n",
       "        vertical-align: middle;\n",
       "    }\n",
       "\n",
       "    .dataframe tbody tr th {\n",
       "        vertical-align: top;\n",
       "    }\n",
       "\n",
       "    .dataframe thead th {\n",
       "        text-align: right;\n",
       "    }\n",
       "</style>\n",
       "<table border=\"1\" class=\"dataframe\">\n",
       "  <thead>\n",
       "    <tr style=\"text-align: right;\">\n",
       "      <th></th>\n",
       "      <th>Campus</th>\n",
       "      <th>Tï¿½tulo</th>\n",
       "      <th>Nome Coordenador</th>\n",
       "    </tr>\n",
       "  </thead>\n",
       "  <tbody>\n",
       "    <tr>\n",
       "      <th>Almenara</th>\n",
       "      <td>Desenvolvimento de mï¿½todo analï¿½tico para d...</td>\n",
       "      <td>Ednilton Moreira Gama</td>\n",
       "      <td>NaN</td>\n",
       "    </tr>\n",
       "    <tr>\n",
       "      <th>Almenara</th>\n",
       "      <td>Aprimorar ï¿½ preciso: Pesquisa de percepï¿½ï¿...</td>\n",
       "      <td>Alfredo Costa</td>\n",
       "      <td>NaN</td>\n",
       "    </tr>\n",
       "    <tr>\n",
       "      <th>Almenara</th>\n",
       "      <td>Produï¿½ï¿½o de guias de estudo para o modelo ...</td>\n",
       "      <td>Regina Mendes de Araï¿½jo</td>\n",
       "      <td>NaN</td>\n",
       "    </tr>\n",
       "    <tr>\n",
       "      <th>Almenara</th>\n",
       "      <td>Avaliaï¿½ï¿½o Gerencial em Administraï¿½ï¿½o P...</td>\n",
       "      <td>Dayane Patrï¿½cia Cunha de Franï¿½a</td>\n",
       "      <td>NaN</td>\n",
       "    </tr>\n",
       "    <tr>\n",
       "      <th>Almenara</th>\n",
       "      <td>Anï¿½lise do Perfil Epidomiologia da Hansenï¿½...</td>\n",
       "      <td>Leila Conceiï¿½ï¿½o de Paula Miranda</td>\n",
       "      <td>NaN</td>\n",
       "    </tr>\n",
       "    <tr>\n",
       "      <th>...</th>\n",
       "      <td>...</td>\n",
       "      <td>...</td>\n",
       "      <td>...</td>\n",
       "    </tr>\n",
       "    <tr>\n",
       "      <th>Teï¿½filo Otoni</th>\n",
       "      <td>Mapeamento e estrutura cultural do Norte de Mi...</td>\n",
       "      <td>Yuri Bento Marques</td>\n",
       "      <td>NaN</td>\n",
       "    </tr>\n",
       "    <tr>\n",
       "      <th>Teï¿½filo Otoni</th>\n",
       "      <td>Impactos da erosï¿½o hï¿½drica, perda de solo ...</td>\n",
       "      <td>Ivan Carlos Carreiro Almeida</td>\n",
       "      <td>NaN</td>\n",
       "    </tr>\n",
       "    <tr>\n",
       "      <th>Teï¿½filo Otoni</th>\n",
       "      <td>Empreendedores versus inventores: Testagem de ...</td>\n",
       "      <td>Gustavo Henrique Silva de Souza</td>\n",
       "      <td>NaN</td>\n",
       "    </tr>\n",
       "    <tr>\n",
       "      <th>Teï¿½filo Otoni</th>\n",
       "      <td>Influï¿½ncia do Uso do Solo e da Topografia na...</td>\n",
       "      <td>Ivan Carlos Carreiro Almeida</td>\n",
       "      <td>NaN</td>\n",
       "    </tr>\n",
       "    <tr>\n",
       "      <th>Teï¿½filo Otoni</th>\n",
       "      <td>Instrumentaï¿½ï¿½o Padronizada na Administraï¿...</td>\n",
       "      <td>Ana Clï¿½udia Gonï¿½alves  de Sï¿½ Jardim</td>\n",
       "      <td>NaN</td>\n",
       "    </tr>\n",
       "  </tbody>\n",
       "</table>\n",
       "<p>377 rows × 3 columns</p>\n",
       "</div>"
      ],
      "text/plain": [
       "                                                            Campus  \\\n",
       "Almenara         Desenvolvimento de mï¿½todo analï¿½tico para d...   \n",
       "Almenara         Aprimorar ï¿½ preciso: Pesquisa de percepï¿½ï¿...   \n",
       "Almenara         Produï¿½ï¿½o de guias de estudo para o modelo ...   \n",
       "Almenara         Avaliaï¿½ï¿½o Gerencial em Administraï¿½ï¿½o P...   \n",
       "Almenara         Anï¿½lise do Perfil Epidomiologia da Hansenï¿½...   \n",
       "...                                                            ...   \n",
       "Teï¿½filo Otoni  Mapeamento e estrutura cultural do Norte de Mi...   \n",
       "Teï¿½filo Otoni  Impactos da erosï¿½o hï¿½drica, perda de solo ...   \n",
       "Teï¿½filo Otoni  Empreendedores versus inventores: Testagem de ...   \n",
       "Teï¿½filo Otoni  Influï¿½ncia do Uso do Solo e da Topografia na...   \n",
       "Teï¿½filo Otoni  Instrumentaï¿½ï¿½o Padronizada na Administraï¿...   \n",
       "\n",
       "                                                  Tï¿½tulo   Nome Coordenador   \n",
       "Almenara                             Ednilton Moreira Gama                 NaN  \n",
       "Almenara                                     Alfredo Costa                 NaN  \n",
       "Almenara                         Regina Mendes de Araï¿½jo                 NaN  \n",
       "Almenara               Dayane Patrï¿½cia Cunha de Franï¿½a                 NaN  \n",
       "Almenara              Leila Conceiï¿½ï¿½o de Paula Miranda                 NaN  \n",
       "...                                                    ...                 ...  \n",
       "Teï¿½filo Otoni                         Yuri Bento Marques                 NaN  \n",
       "Teï¿½filo Otoni               Ivan Carlos Carreiro Almeida                 NaN  \n",
       "Teï¿½filo Otoni            Gustavo Henrique Silva de Souza                 NaN  \n",
       "Teï¿½filo Otoni               Ivan Carlos Carreiro Almeida                 NaN  \n",
       "Teï¿½filo Otoni  Ana Clï¿½udia Gonï¿½alves  de Sï¿½ Jardim                 NaN  \n",
       "\n",
       "[377 rows x 3 columns]"
      ]
     },
     "execution_count": 17,
     "metadata": {},
     "output_type": "execute_result"
    }
   ],
   "source": [
    "projetos_pesquisa"
   ]
  },
  {
   "cell_type": "markdown",
   "metadata": {},
   "source": [
    "\n",
    "## Questão 2"
   ]
  },
  {
   "cell_type": "code",
   "execution_count": 20,
   "metadata": {},
   "outputs": [],
   "source": [
    "vendas18 = pd.read_csv('https://raw.githubusercontent.com/STNeto1/ifpb/master/estatistica/vendas18.csv', delimiter=';')\n",
    "vendas17 = pd.read_csv('https://raw.githubusercontent.com/STNeto1/ifpb/master/estatistica/vendas17.csv', delimiter=';', encoding='latin1')\n"
   ]
  },
  {
   "cell_type": "code",
   "execution_count": 21,
   "metadata": {},
   "outputs": [],
   "source": [
    "vendas18.set_index(['ANO', 'ESTADO'], inplace=True)\n",
    "vendas17.set_index(['ANO', 'ESTADO'], inplace=True)"
   ]
  },
  {
   "cell_type": "code",
   "execution_count": 22,
   "metadata": {},
   "outputs": [],
   "source": [
    "vendas17_18 =  pd.concat([vendas17, vendas18], join='outer', ignore_index=False, keys=None,\n",
    "          levels=None, names=None, verify_integrity=False, copy=True)"
   ]
  },
  {
   "cell_type": "code",
   "execution_count": 23,
   "metadata": {},
   "outputs": [
    {
     "data": {
      "text/html": [
       "<div>\n",
       "<style scoped>\n",
       "    .dataframe tbody tr th:only-of-type {\n",
       "        vertical-align: middle;\n",
       "    }\n",
       "\n",
       "    .dataframe tbody tr th {\n",
       "        vertical-align: top;\n",
       "    }\n",
       "\n",
       "    .dataframe thead th {\n",
       "        text-align: right;\n",
       "    }\n",
       "</style>\n",
       "<table border=\"1\" class=\"dataframe\">\n",
       "  <thead>\n",
       "    <tr style=\"text-align: right;\">\n",
       "      <th></th>\n",
       "      <th></th>\n",
       "      <th>CODIGO IBGE</th>\n",
       "      <th>Municipio</th>\n",
       "      <th>Vendas</th>\n",
       "    </tr>\n",
       "    <tr>\n",
       "      <th>ANO</th>\n",
       "      <th>ESTADO</th>\n",
       "      <th></th>\n",
       "      <th></th>\n",
       "      <th></th>\n",
       "    </tr>\n",
       "  </thead>\n",
       "  <tbody>\n",
       "    <tr>\n",
       "      <th rowspan=\"5\" valign=\"top\">2017</th>\n",
       "      <th>Acreï¿½</th>\n",
       "      <td>1200203</td>\n",
       "      <td>CRUZEIRO DO SUL</td>\n",
       "      <td>194000</td>\n",
       "    </tr>\n",
       "    <tr>\n",
       "      <th>Acreï¿½</th>\n",
       "      <td>1200302</td>\n",
       "      <td>FEIJO</td>\n",
       "      <td>110000</td>\n",
       "    </tr>\n",
       "    <tr>\n",
       "      <th>Acreï¿½</th>\n",
       "      <td>1200401</td>\n",
       "      <td>RIO BRANCO</td>\n",
       "      <td>235000</td>\n",
       "    </tr>\n",
       "    <tr>\n",
       "      <th>Acreï¿½</th>\n",
       "      <td>1200450</td>\n",
       "      <td>SENADOR GUIOMARD</td>\n",
       "      <td>200000</td>\n",
       "    </tr>\n",
       "    <tr>\n",
       "      <th>Alagoasï¿½</th>\n",
       "      <td>2701506</td>\n",
       "      <td>CAMPO GRANDE</td>\n",
       "      <td>395</td>\n",
       "    </tr>\n",
       "    <tr>\n",
       "      <th>...</th>\n",
       "      <th>...</th>\n",
       "      <td>...</td>\n",
       "      <td>...</td>\n",
       "      <td>...</td>\n",
       "    </tr>\n",
       "    <tr>\n",
       "      <th rowspan=\"5\" valign=\"top\">2018</th>\n",
       "      <th>Tocantins</th>\n",
       "      <td>1711100</td>\n",
       "      <td>ITAPORA DO TOCANTINS</td>\n",
       "      <td>225</td>\n",
       "    </tr>\n",
       "    <tr>\n",
       "      <th>Tocantins</th>\n",
       "      <td>1721000</td>\n",
       "      <td>PALMAS</td>\n",
       "      <td>187950</td>\n",
       "    </tr>\n",
       "    <tr>\n",
       "      <th>Tocantins</th>\n",
       "      <td>1716109</td>\n",
       "      <td>PARAISO DO TOCANTINS</td>\n",
       "      <td>162000</td>\n",
       "    </tr>\n",
       "    <tr>\n",
       "      <th>Tocantins</th>\n",
       "      <td>1718204</td>\n",
       "      <td>PORTO NACIONAL</td>\n",
       "      <td>120000</td>\n",
       "    </tr>\n",
       "    <tr>\n",
       "      <th>Tocantins</th>\n",
       "      <td>1718899</td>\n",
       "      <td>SANTA RITA DO TOCANTINS</td>\n",
       "      <td>259000</td>\n",
       "    </tr>\n",
       "  </tbody>\n",
       "</table>\n",
       "<p>1113 rows × 3 columns</p>\n",
       "</div>"
      ],
      "text/plain": [
       "                 CODIGO IBGE                Municipio  Vendas\n",
       "ANO  ESTADO                                                  \n",
       "2017 Acreï¿½         1200203          CRUZEIRO DO SUL  194000\n",
       "     Acreï¿½         1200302                    FEIJO  110000\n",
       "     Acreï¿½         1200401               RIO BRANCO  235000\n",
       "     Acreï¿½         1200450         SENADOR GUIOMARD  200000\n",
       "     Alagoasï¿½      2701506             CAMPO GRANDE     395\n",
       "...                      ...                      ...     ...\n",
       "2018 Tocantins       1711100     ITAPORA DO TOCANTINS     225\n",
       "     Tocantins       1721000                   PALMAS  187950\n",
       "     Tocantins       1716109     PARAISO DO TOCANTINS  162000\n",
       "     Tocantins       1718204           PORTO NACIONAL  120000\n",
       "     Tocantins       1718899  SANTA RITA DO TOCANTINS  259000\n",
       "\n",
       "[1113 rows x 3 columns]"
      ]
     },
     "execution_count": 23,
     "metadata": {},
     "output_type": "execute_result"
    }
   ],
   "source": [
    "vendas17_18"
   ]
  },
  {
   "cell_type": "code",
   "execution_count": 24,
   "metadata": {},
   "outputs": [],
   "source": [
    "vendas17_18.to_json('vendas17_18.json', orient='split')"
   ]
  },
  {
   "cell_type": "markdown",
   "metadata": {},
   "source": [
    "## O que é JSON e quais as vantagens dele sobre o CSV?\n",
    "\n",
    "### Json é um formato de texto, normalmente usado para comunicação entre sistemas, que transforma informações em pares chave:valor\n",
    "\n",
    "### Vantagens sobre CSV: Uma das vantagens é que o CSV apresenta um formato raso e plano, enquanto o JSON pode guardar informações quase como uma árvore, onde um ramo pode ter várias informações, que essas informações podem guardar mais informações e segue a ordem."
   ]
  },
  {
   "cell_type": "markdown",
   "metadata": {},
   "source": [
    "### Explicações\n",
    "\n",
    "- Os arquivos foram enviados para o GitHub para serem acessados de forma via link\n",
    "- Usando o set_index para duas colunas do dataframe, foi possível criar um multiindex com o ANO e o ESTADO\n",
    "- Devido os dois dataframes terem o mesmo formato, apenas um concat foi necessário para unir os dois dataframes\n",
    "- Usando o método to_json foi possível exportar a tabela para o formato json, e orient='split' foi o formato de exportação que aparenta ser o melhor jeito de ser JSON puro."
   ]
  }
 ],
 "metadata": {
  "kernelspec": {
   "display_name": "Python 3",
   "language": "python",
   "name": "python3"
  },
  "language_info": {
   "codemirror_mode": {
    "name": "ipython",
    "version": 3
   },
   "file_extension": ".py",
   "mimetype": "text/x-python",
   "name": "python",
   "nbconvert_exporter": "python",
   "pygments_lexer": "ipython3",
   "version": "3.8.3"
  }
 },
 "nbformat": 4,
 "nbformat_minor": 4
}
